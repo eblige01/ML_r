{
 "cells": [
  {
   "cell_type": "markdown",
   "id": "874e4ff2-fb7d-44ab-b222-c3ae07a2f2d0",
   "metadata": {},
   "source": [
    "## Loading Libraries"
   ]
  },
  {
   "cell_type": "code",
   "execution_count": 6,
   "id": "fbede4e3-ffe3-4641-a422-828a5e972c3d",
   "metadata": {},
   "outputs": [],
   "source": [
    "library(kernlab)\n",
    "#library(randomforest)\n",
    "library(ellipse)\n",
    "library(caret)"
   ]
  },
  {
   "cell_type": "markdown",
   "id": "b8c8fa39-e87c-4000-b017-b402835d9600",
   "metadata": {},
   "source": [
    "## Loading dataset"
   ]
  },
  {
   "cell_type": "code",
   "execution_count": 10,
   "id": "371c3e22-569e-498e-a457-30a9102af15e",
   "metadata": {},
   "outputs": [],
   "source": [
    "data(iris)\n",
    "dataset <- iris"
   ]
  },
  {
   "cell_type": "markdown",
   "id": "c73da675-3042-4fa4-9397-c95b5fbafdda",
   "metadata": {},
   "source": [
    "## Creating validation dataset"
   ]
  },
  {
   "cell_type": "markdown",
   "id": "11fb0ad5-c462-4c90-b752-d4ac0b89f7fa",
   "metadata": {},
   "source": [
    "### create a list of 80% of the rows in the original dataset we can use for training"
   ]
  },
  {
   "cell_type": "code",
   "execution_count": 11,
   "id": "ddf191f1-4424-4e93-9f00-7be520949607",
   "metadata": {},
   "outputs": [],
   "source": [
    "validation_index <- createDataPartition(dataset$Species, p=0.80, list=FALSE)"
   ]
  },
  {
   "cell_type": "markdown",
   "id": "a30342a0-f0fc-457e-ac24-6cae14208763",
   "metadata": {},
   "source": [
    "### select 20% of the data for validation"
   ]
  },
  {
   "cell_type": "code",
   "execution_count": 12,
   "id": "ebd0bfea-ec1a-4ce0-af4c-793517646759",
   "metadata": {},
   "outputs": [],
   "source": [
    "validation <- dataset[-validation_index,]"
   ]
  },
  {
   "cell_type": "markdown",
   "id": "b0f3be3a-58f9-4825-afa8-a52d8f0db624",
   "metadata": {},
   "source": [
    "### use the remaining 80% of data to training and testing the models"
   ]
  },
  {
   "cell_type": "code",
   "execution_count": 13,
   "id": "3f65892a-223d-48ee-a8df-6c8dcce7bb6b",
   "metadata": {},
   "outputs": [],
   "source": [
    "dataset <- dataset[validation_index,]"
   ]
  },
  {
   "cell_type": "markdown",
   "id": "602338fd-69c8-4cfd-9a45-c0fa610abaa8",
   "metadata": {},
   "source": [
    "## Summarizing the dataset "
   ]
  },
  {
   "cell_type": "markdown",
   "id": "afa38ea6-0b76-46ea-b970-63fc874564bb",
   "metadata": {},
   "source": [
    "### dimensions of dataset"
   ]
  },
  {
   "cell_type": "code",
   "execution_count": 14,
   "id": "f8aeabc0-1ed1-45aa-a433-66c6931ca72f",
   "metadata": {},
   "outputs": [
    {
     "data": {
      "text/html": [
       "<style>\n",
       ".list-inline {list-style: none; margin:0; padding: 0}\n",
       ".list-inline>li {display: inline-block}\n",
       ".list-inline>li:not(:last-child)::after {content: \"\\00b7\"; padding: 0 .5ex}\n",
       "</style>\n",
       "<ol class=list-inline><li>120</li><li>5</li></ol>\n"
      ],
      "text/latex": [
       "\\begin{enumerate*}\n",
       "\\item 120\n",
       "\\item 5\n",
       "\\end{enumerate*}\n"
      ],
      "text/markdown": [
       "1. 120\n",
       "2. 5\n",
       "\n",
       "\n"
      ],
      "text/plain": [
       "[1] 120   5"
      ]
     },
     "metadata": {},
     "output_type": "display_data"
    }
   ],
   "source": [
    "dim(dataset)"
   ]
  },
  {
   "cell_type": "markdown",
   "id": "bd0bfbd9-3cfe-4400-b2ce-9ea7529e1c79",
   "metadata": {},
   "source": [
    "### list types for each attribute"
   ]
  },
  {
   "cell_type": "code",
   "execution_count": 15,
   "id": "db1d7ee4-72b2-4cb6-b27b-688e2312323d",
   "metadata": {},
   "outputs": [
    {
     "data": {
      "text/html": [
       "<style>\n",
       ".dl-inline {width: auto; margin:0; padding: 0}\n",
       ".dl-inline>dt, .dl-inline>dd {float: none; width: auto; display: inline-block}\n",
       ".dl-inline>dt::after {content: \":\\0020\"; padding-right: .5ex}\n",
       ".dl-inline>dt:not(:first-of-type) {padding-left: .5ex}\n",
       "</style><dl class=dl-inline><dt>Sepal.Length</dt><dd>'numeric'</dd><dt>Sepal.Width</dt><dd>'numeric'</dd><dt>Petal.Length</dt><dd>'numeric'</dd><dt>Petal.Width</dt><dd>'numeric'</dd><dt>Species</dt><dd>'factor'</dd></dl>\n"
      ],
      "text/latex": [
       "\\begin{description*}\n",
       "\\item[Sepal.Length] 'numeric'\n",
       "\\item[Sepal.Width] 'numeric'\n",
       "\\item[Petal.Length] 'numeric'\n",
       "\\item[Petal.Width] 'numeric'\n",
       "\\item[Species] 'factor'\n",
       "\\end{description*}\n"
      ],
      "text/markdown": [
       "Sepal.Length\n",
       ":   'numeric'Sepal.Width\n",
       ":   'numeric'Petal.Length\n",
       ":   'numeric'Petal.Width\n",
       ":   'numeric'Species\n",
       ":   'factor'\n",
       "\n"
      ],
      "text/plain": [
       "Sepal.Length  Sepal.Width Petal.Length  Petal.Width      Species \n",
       "   \"numeric\"    \"numeric\"    \"numeric\"    \"numeric\"     \"factor\" "
      ]
     },
     "metadata": {},
     "output_type": "display_data"
    }
   ],
   "source": [
    "sapply(dataset, class)"
   ]
  },
  {
   "cell_type": "markdown",
   "id": "6d4aa512-7901-4480-b458-73fbbe2782a4",
   "metadata": {},
   "source": [
    "### take a peek at the first 5 rows of the data"
   ]
  },
  {
   "cell_type": "code",
   "execution_count": 16,
   "id": "fc0e0818-365b-4971-a96b-3d88fb931dc6",
   "metadata": {},
   "outputs": [
    {
     "data": {
      "text/html": [
       "<table class=\"dataframe\">\n",
       "<caption>A data.frame: 6 × 5</caption>\n",
       "<thead>\n",
       "\t<tr><th></th><th scope=col>Sepal.Length</th><th scope=col>Sepal.Width</th><th scope=col>Petal.Length</th><th scope=col>Petal.Width</th><th scope=col>Species</th></tr>\n",
       "\t<tr><th></th><th scope=col>&lt;dbl&gt;</th><th scope=col>&lt;dbl&gt;</th><th scope=col>&lt;dbl&gt;</th><th scope=col>&lt;dbl&gt;</th><th scope=col>&lt;fct&gt;</th></tr>\n",
       "</thead>\n",
       "<tbody>\n",
       "\t<tr><th scope=row>1</th><td>5.1</td><td>3.5</td><td>1.4</td><td>0.2</td><td>setosa</td></tr>\n",
       "\t<tr><th scope=row>2</th><td>4.9</td><td>3.0</td><td>1.4</td><td>0.2</td><td>setosa</td></tr>\n",
       "\t<tr><th scope=row>3</th><td>4.7</td><td>3.2</td><td>1.3</td><td>0.2</td><td>setosa</td></tr>\n",
       "\t<tr><th scope=row>4</th><td>4.6</td><td>3.1</td><td>1.5</td><td>0.2</td><td>setosa</td></tr>\n",
       "\t<tr><th scope=row>5</th><td>5.0</td><td>3.6</td><td>1.4</td><td>0.2</td><td>setosa</td></tr>\n",
       "\t<tr><th scope=row>6</th><td>5.4</td><td>3.9</td><td>1.7</td><td>0.4</td><td>setosa</td></tr>\n",
       "</tbody>\n",
       "</table>\n"
      ],
      "text/latex": [
       "A data.frame: 6 × 5\n",
       "\\begin{tabular}{r|lllll}\n",
       "  & Sepal.Length & Sepal.Width & Petal.Length & Petal.Width & Species\\\\\n",
       "  & <dbl> & <dbl> & <dbl> & <dbl> & <fct>\\\\\n",
       "\\hline\n",
       "\t1 & 5.1 & 3.5 & 1.4 & 0.2 & setosa\\\\\n",
       "\t2 & 4.9 & 3.0 & 1.4 & 0.2 & setosa\\\\\n",
       "\t3 & 4.7 & 3.2 & 1.3 & 0.2 & setosa\\\\\n",
       "\t4 & 4.6 & 3.1 & 1.5 & 0.2 & setosa\\\\\n",
       "\t5 & 5.0 & 3.6 & 1.4 & 0.2 & setosa\\\\\n",
       "\t6 & 5.4 & 3.9 & 1.7 & 0.4 & setosa\\\\\n",
       "\\end{tabular}\n"
      ],
      "text/markdown": [
       "\n",
       "A data.frame: 6 × 5\n",
       "\n",
       "| <!--/--> | Sepal.Length &lt;dbl&gt; | Sepal.Width &lt;dbl&gt; | Petal.Length &lt;dbl&gt; | Petal.Width &lt;dbl&gt; | Species &lt;fct&gt; |\n",
       "|---|---|---|---|---|---|\n",
       "| 1 | 5.1 | 3.5 | 1.4 | 0.2 | setosa |\n",
       "| 2 | 4.9 | 3.0 | 1.4 | 0.2 | setosa |\n",
       "| 3 | 4.7 | 3.2 | 1.3 | 0.2 | setosa |\n",
       "| 4 | 4.6 | 3.1 | 1.5 | 0.2 | setosa |\n",
       "| 5 | 5.0 | 3.6 | 1.4 | 0.2 | setosa |\n",
       "| 6 | 5.4 | 3.9 | 1.7 | 0.4 | setosa |\n",
       "\n"
      ],
      "text/plain": [
       "  Sepal.Length Sepal.Width Petal.Length Petal.Width Species\n",
       "1 5.1          3.5         1.4          0.2         setosa \n",
       "2 4.9          3.0         1.4          0.2         setosa \n",
       "3 4.7          3.2         1.3          0.2         setosa \n",
       "4 4.6          3.1         1.5          0.2         setosa \n",
       "5 5.0          3.6         1.4          0.2         setosa \n",
       "6 5.4          3.9         1.7          0.4         setosa "
      ]
     },
     "metadata": {},
     "output_type": "display_data"
    }
   ],
   "source": [
    "head(dataset)"
   ]
  },
  {
   "cell_type": "markdown",
   "id": "19df9f8e-09a7-4154-93bf-f19933a56cb8",
   "metadata": {},
   "source": [
    "### list the levels for the class"
   ]
  },
  {
   "cell_type": "code",
   "execution_count": 17,
   "id": "4b5bdd4e-4e4f-444e-afca-622626ed9fc9",
   "metadata": {},
   "outputs": [
    {
     "data": {
      "text/html": [
       "<style>\n",
       ".list-inline {list-style: none; margin:0; padding: 0}\n",
       ".list-inline>li {display: inline-block}\n",
       ".list-inline>li:not(:last-child)::after {content: \"\\00b7\"; padding: 0 .5ex}\n",
       "</style>\n",
       "<ol class=list-inline><li>'setosa'</li><li>'versicolor'</li><li>'virginica'</li></ol>\n"
      ],
      "text/latex": [
       "\\begin{enumerate*}\n",
       "\\item 'setosa'\n",
       "\\item 'versicolor'\n",
       "\\item 'virginica'\n",
       "\\end{enumerate*}\n"
      ],
      "text/markdown": [
       "1. 'setosa'\n",
       "2. 'versicolor'\n",
       "3. 'virginica'\n",
       "\n",
       "\n"
      ],
      "text/plain": [
       "[1] \"setosa\"     \"versicolor\" \"virginica\" "
      ]
     },
     "metadata": {},
     "output_type": "display_data"
    }
   ],
   "source": [
    "levels(dataset$Species)"
   ]
  },
  {
   "cell_type": "markdown",
   "id": "abfe5d76-1327-4c9c-83cc-80a1e23967d5",
   "metadata": {},
   "source": [
    "### summarize the class distribution"
   ]
  },
  {
   "cell_type": "code",
   "execution_count": 21,
   "id": "f816ef84-c4ff-4a98-b784-72c48d144df0",
   "metadata": {},
   "outputs": [
    {
     "data": {
      "text/html": [
       "<table class=\"dataframe\">\n",
       "<caption>A matrix: 3 × 2 of type dbl</caption>\n",
       "<thead>\n",
       "\t<tr><th></th><th scope=col>freq</th><th scope=col>percentage</th></tr>\n",
       "</thead>\n",
       "<tbody>\n",
       "\t<tr><th scope=row>setosa</th><td>40</td><td>33.33333</td></tr>\n",
       "\t<tr><th scope=row>versicolor</th><td>40</td><td>33.33333</td></tr>\n",
       "\t<tr><th scope=row>virginica</th><td>40</td><td>33.33333</td></tr>\n",
       "</tbody>\n",
       "</table>\n"
      ],
      "text/latex": [
       "A matrix: 3 × 2 of type dbl\n",
       "\\begin{tabular}{r|ll}\n",
       "  & freq & percentage\\\\\n",
       "\\hline\n",
       "\tsetosa & 40 & 33.33333\\\\\n",
       "\tversicolor & 40 & 33.33333\\\\\n",
       "\tvirginica & 40 & 33.33333\\\\\n",
       "\\end{tabular}\n"
      ],
      "text/markdown": [
       "\n",
       "A matrix: 3 × 2 of type dbl\n",
       "\n",
       "| <!--/--> | freq | percentage |\n",
       "|---|---|---|\n",
       "| setosa | 40 | 33.33333 |\n",
       "| versicolor | 40 | 33.33333 |\n",
       "| virginica | 40 | 33.33333 |\n",
       "\n"
      ],
      "text/plain": [
       "           freq percentage\n",
       "setosa     40   33.33333  \n",
       "versicolor 40   33.33333  \n",
       "virginica  40   33.33333  "
      ]
     },
     "metadata": {},
     "output_type": "display_data"
    }
   ],
   "source": [
    "percentage <- prop.table(table(dataset$Species)) * 100\n",
    "cbind(freq=table(dataset$Species), percentage=percentage)"
   ]
  },
  {
   "cell_type": "markdown",
   "id": "48d21463-ca44-4f2e-b45f-18dc17fbbda9",
   "metadata": {},
   "source": [
    "### summarize attribute distributions"
   ]
  },
  {
   "cell_type": "code",
   "execution_count": 22,
   "id": "6ee83aae-0856-47f3-b607-9aed33079264",
   "metadata": {},
   "outputs": [
    {
     "data": {
      "text/plain": [
       "  Sepal.Length    Sepal.Width     Petal.Length    Petal.Width   \n",
       " Min.   :4.300   Min.   :2.000   Min.   :1.000   Min.   :0.100  \n",
       " 1st Qu.:5.100   1st Qu.:2.800   1st Qu.:1.600   1st Qu.:0.300  \n",
       " Median :5.700   Median :3.000   Median :4.350   Median :1.300  \n",
       " Mean   :5.838   Mean   :3.035   Mean   :3.761   Mean   :1.192  \n",
       " 3rd Qu.:6.425   3rd Qu.:3.225   3rd Qu.:5.100   3rd Qu.:1.800  \n",
       " Max.   :7.900   Max.   :4.200   Max.   :6.900   Max.   :2.400  \n",
       "       Species  \n",
       " setosa    :40  \n",
       " versicolor:40  \n",
       " virginica :40  \n",
       "                \n",
       "                \n",
       "                "
      ]
     },
     "metadata": {},
     "output_type": "display_data"
    }
   ],
   "source": [
    "summary(dataset)"
   ]
  },
  {
   "cell_type": "code",
   "execution_count": null,
   "id": "e6e3f26c-09b2-413a-9186-54a0f4f248de",
   "metadata": {},
   "outputs": [],
   "source": []
  }
 ],
 "metadata": {
  "kernelspec": {
   "display_name": "R",
   "language": "R",
   "name": "ir"
  },
  "language_info": {
   "codemirror_mode": "r",
   "file_extension": ".r",
   "mimetype": "text/x-r-source",
   "name": "R",
   "pygments_lexer": "r",
   "version": "4.0.5"
  }
 },
 "nbformat": 4,
 "nbformat_minor": 5
}
